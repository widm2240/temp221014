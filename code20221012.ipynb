{
 "cells": [
  {
   "cell_type": "code",
   "execution_count": 1,
   "id": "f77aed02-2b97-4a8e-83f1-28ea81d08613",
   "metadata": {},
   "outputs": [],
   "source": [
    "import pandas as pd"
   ]
  },
  {
   "cell_type": "code",
   "execution_count": 165,
   "id": "30bd5bc2-98c7-497d-90c2-891a3c96b8a4",
   "metadata": {},
   "outputs": [],
   "source": [
    "#회원가입 만들기\n",
    "\n",
    "#1. id, pw, name 변수의 값을 저장하는 데이터 프레임을 만드시오\n",
    "#dataFrame()으로 df변수 만들어서 안에 컬럼(id,pw,name)넣기\n",
    "#빈 데이터 프레임 만들기\n",
    "global df\n",
    "#index=range(0,0) : 크기 0(칸이 0개)\n",
    "#columns=['id', 'pw', 'name'] : 컬럼이 각각 id, pw, name\n",
    "df = pd.DataFrame(index=range(0,0), columns=['id', 'pw', 'name'])\n",
    "\n",
    "#2. id,pw,name 값을 받고, df(데이터프레임)에 저장하는 기능 구현\n",
    "\n",
    "#3. id값을 찾아서 같은 id값이면 '같은 아이디가 있습니다' 출력하는 메서드 구현\n",
    "#if문으로 id값 같은지 찾은 뒤, 문자열 출력\n",
    "#*참고\n",
    "# if '이름' in dict_data:\n",
    "#     print('나의 이름은 '+dict_data['이름'])\n",
    "# else:\n",
    "#     print('이름 없음')\n",
    "\n",
    "#4. id값을 찾아서 그 row의 pw의 값을 변경하는 메서드 구현\n",
    "#어제 했던 funcUpdate메서드를 참고해서 값을 변경하는 기능을 구현하시면 됩니다\n",
    "#*참고\n",
    "# def funcUpdate(name, num1, num2, num3, num4) :\n",
    "#     global ef\n",
    "#     ef.loc[ef.이름 == name, ('수학', '영어', '음악', '체육')] = (num1, num2, num3, num4)"
   ]
  },
  {
   "cell_type": "code",
   "execution_count": 186,
   "id": "82f74fac-0bba-42eb-9d02-ddf9e02e9cef",
   "metadata": {},
   "outputs": [],
   "source": [
    "#input : 자바의 Scanner 클래스와 동일, 사용자의 입력값을 키보드와 버퍼를 통해\n",
    "#데이터를 받아서 python 인터프린트에 저장\n",
    "# def insertData() :\n",
    "#     global df\n",
    "#     input_id = input('아이디를 입력하시오')\n",
    "#     input_pw = input('비밀번호를 입력하시오')\n",
    "#     input_name = input('이름를 입력하시오')\n",
    "#     #입력받은 값이 데이터프레임에 한 개라도 존재하면 true\n",
    "#     #변수에 키보드 값을 받아오고, \n",
    "#     #받아온 값이 데이터 프레임에 존재하는지 확인\n",
    "#     print('any = ', (df['name'] == input_id).any())\n",
    "#     #입력받은 값이 데이터 프레임에 전부 존재하면 true\n",
    "#     #입력받은 값이 변수에 저장하고,\n",
    "#     #데이터프레임 전부 도배로 존재하면 true\n",
    "#     #null값(데이터 프레임에 아무 데이터도 없을 경우)의 경우\n",
    "#     #비교할 대상이 없으므로 true return\n",
    "#     print('all = ', (df['name'] == input_id).all())\n",
    "#     # print((df['name'] == input_id).all() or (df['id'] == input_id).all())\n",
    "#     # if (df['name'] == input_id).all():\n",
    "#     #     print('입력값 중복')\n",
    "#     # else:\n",
    "#     #     print('입력값 없음')\n",
    "#     df.loc[len(df)] = [input_id, input_pw, input_name]\n",
    "#     # input_id = input('id: ')\n",
    "#     # input_pw = input('pw: ')\n",
    "#     # input_name = input('name: ')\n",
    "#     # #df.append(id,pw,name)\n",
    "#     # print((df.id == input_id).all() or (df.name == input_name).all())\n",
    "#     # print((df['name'] == input_id).all() or (df['id'] == input_id).all())\n",
    "\n",
    "def insertData() :\n",
    "    global df\n",
    "    input_id = input('아이디를 입력하시오')\n",
    "    input_pw = input('비밀번호를 입력하시오')\n",
    "    input_name = input('이름를 입력하시오')\n",
    "    if (df['name'] == input_id).any():\n",
    "        print('같은 아이디가 있습니다')\n",
    "    else:\n",
    "        df.loc[len(df)] = [input_id, input_pw, input_name]\n",
    "        print('같은 아이디가 없습니다')\n",
    "\n",
    "#all() 값이 동일하게 존재하는지 확인(모든 값이 같은가? 확인)\n",
    "#all()의 경우 인자로 받은 요소가 비어있으면 true\n",
    "#any() 값이 존재하는지 확인\n",
    "def checkData(name) :\n",
    "    global df\n",
    "    if (df['name'] == name).any():\n",
    "        print('이름 확인')\n",
    "    else :\n",
    "        print('이름 확인 못함')\n",
    "\n",
    "def updateData(name) :\n",
    "    global df\n",
    "    df.loc[df['name'] == name, ('pw')] = (input('바꿀 비밀번호를 입력하시오'))        \n",
    "        \n",
    "# check = (df.name =='김준석')\n",
    "# check = (df.loc[df.name == '김준석'].index)"
   ]
  },
  {
   "cell_type": "code",
   "execution_count": 188,
   "id": "4816f8a3-b8f6-4a87-8198-ab164a0158fb",
   "metadata": {},
   "outputs": [
    {
     "name": "stdin",
     "output_type": "stream",
     "text": [
      "아이디를 입력하시오 1\n",
      "비밀번호를 입력하시오 1\n",
      "이름를 입력하시오 1\n"
     ]
    },
    {
     "name": "stdout",
     "output_type": "stream",
     "text": [
      "True\n",
      "같은 아이디가 있습니다\n",
      "     id    pw name\n",
      "0  abcd  0000  김준석\n",
      "1  abcd  0000  김준석\n",
      "2  abcd  0000  김준석\n",
      "3  abcd  0000  김준석\n",
      "4  adaw  0000  김준석\n",
      "5     1     1    1\n",
      "6     1     1    1\n"
     ]
    }
   ],
   "source": [
    "insertData()\n",
    "# print(df)\n",
    "# checkData('박준석')\n",
    "# check = (df.loc[df.name == '김준석'].index)\n",
    "# print(check)\n",
    "# updateData('김준석')\n",
    "print(df)"
   ]
  },
  {
   "cell_type": "code",
   "execution_count": 88,
   "id": "26b0d955-e232-45b7-905b-ac3d384402f8",
   "metadata": {},
   "outputs": [
    {
     "name": "stdout",
     "output_type": "stream",
     "text": [
      "        id    pw  name\n",
      "0  abcd123  0000   김준석\n",
      "1     abcd  0000   김준석\n",
      "2     qwer  1234   박준석\n",
      "3      213  e1r1  r21r\n"
     ]
    }
   ],
   "source": [
    "print(df)"
   ]
  },
  {
   "cell_type": "code",
   "execution_count": 185,
   "id": "1f44a6ea-3e91-409d-92d0-8497e2ed23dd",
   "metadata": {},
   "outputs": [
    {
     "name": "stdout",
     "output_type": "stream",
     "text": [
      "     id    pw name\n",
      "0  abcd  0000  김준석\n",
      "1  abcd  0000  김준석\n",
      "2  abcd  0000  김준석\n",
      "3  abcd  0000  김준석\n",
      "4  adaw  0000  김준석\n",
      "     id    pw\n",
      "0  abcd  0000\n"
     ]
    }
   ],
   "source": [
    "# print(df.iloc[0,1])\n",
    "# print(df.iloc[0,2])\n",
    "#loc(컬럼명)\n",
    "#iloc(index)\n",
    "print(df)\n",
    "#슬라이싱은 (시작지점(포함):끝나는 지점미만(불포함))\n",
    "#-1의 경우 0에서 뒤로 1컬럼 가므로, max값으로 지정\n",
    "print(df.iloc[:1,:-1])"
   ]
  },
  {
   "cell_type": "code",
   "execution_count": null,
   "id": "30aa028d-84c8-44bd-b7aa-ff920555324b",
   "metadata": {},
   "outputs": [],
   "source": []
  },
  {
   "cell_type": "code",
   "execution_count": null,
   "id": "3c2a38b4-cb9d-491e-9541-e493a4e073de",
   "metadata": {},
   "outputs": [],
   "source": []
  }
 ],
 "metadata": {
  "kernelspec": {
   "display_name": "Python 3 (ipykernel)",
   "language": "python",
   "name": "python3"
  },
  "language_info": {
   "codemirror_mode": {
    "name": "ipython",
    "version": 3
   },
   "file_extension": ".py",
   "mimetype": "text/x-python",
   "name": "python",
   "nbconvert_exporter": "python",
   "pygments_lexer": "ipython3",
   "version": "3.9.0"
  }
 },
 "nbformat": 4,
 "nbformat_minor": 5
}
