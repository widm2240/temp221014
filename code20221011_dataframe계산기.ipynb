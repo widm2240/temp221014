{
 "cells": [
  {
   "cell_type": "code",
   "execution_count": 15,
   "id": "e5c0fbd0-2733-47f0-a1af-f90c74553209",
   "metadata": {},
   "outputs": [],
   "source": [
    "#계산기 로그 남기기\n",
    "#1. 날짜를 자동으로 생성해주는 메서드(함수)를 사용하여 \n",
    "#funcInsert메서드에 활용\n",
    "#2. 계산하는 메서드를 만들고, 계산 내용(log)을 funcInsert와 \n",
    "#연동할 수 있는 아이디어를 생각하고 구현하시오\n",
    "import pandas as pd\n",
    "import datetime"
   ]
  },
  {
   "cell_type": "code",
   "execution_count": 11,
   "id": "9f9c5fec-14b9-41e3-9f26-dc97c4c711fd",
   "metadata": {},
   "outputs": [
    {
     "name": "stdout",
     "output_type": "stream",
     "text": [
      "       log      date\n",
      "0  20 * 20  20221012\n"
     ]
    }
   ],
   "source": [
    "exam_data = {'log' : ['20 * 20'],\n",
    "             'date' : ['20221012']\n",
    "            }\n",
    "global df\n",
    "df = pd.DataFrame(exam_data)\n",
    "print(df)\n",
    "\n",
    "# num1 = 10\n",
    "# num2 = 20\n",
    "#*str : 숫자를 문자열로 바꾸는 메서드\n",
    "# print(str(num1),'+',str(num2))"
   ]
  },
  {
   "cell_type": "code",
   "execution_count": 42,
   "id": "89b0982f-766a-4776-9ed8-0e2e91d6a3eb",
   "metadata": {},
   "outputs": [],
   "source": [
    "#메서드 잘 만드는 법\n",
    "#메서드의 기능은 단순(심플)하게, 그리고 정의를 정확하게\n",
    "def funcInsert(input_log) :\n",
    "    global df\n",
    "    df.loc[len(df)] = [input_log, str(datetime.datetime.now())]\n",
    "#*계산하는 메서드\n",
    "#return 메서드를 실행하고 마지막의 결과물을 반환\n",
    "def funcPlus(input_num1, input_num2) :\n",
    "    strResult = str(input_num1)+ '+' + str(input_num2)\n",
    "    return strResult\n",
    "#*날짜 만드는 메서드\n",
    "# print(type(str(datetime.datetime.now())))"
   ]
  },
  {
   "cell_type": "code",
   "execution_count": 41,
   "id": "175efd08-fd34-4b42-a5d9-e595a2ca406a",
   "metadata": {},
   "outputs": [
    {
     "name": "stdout",
     "output_type": "stream",
     "text": [
      "        log                        date\n",
      "0   20 * 20                    20221012\n",
      "1   40 * 40                    20221012\n",
      "2   40 * 40  2022-10-12 11:10:40.307398\n",
      "3   40 * 40  2022-10-12 11:10:50.674545\n",
      "4   40 * 40  2022-10-12 11:10:54.454982\n",
      "5     20+50  2022-10-12 11:14:22.313894\n",
      "6     20+50  2022-10-12 11:14:32.585375\n",
      "7     30+50  2022-10-12 11:14:38.259365\n",
      "8     30+50  2022-10-12 11:16:25.956209\n",
      "9     30+50  2022-10-12 11:16:29.239046\n",
      "10    50+50  2022-10-12 11:16:32.663676\n"
     ]
    }
   ],
   "source": [
    "funcInsert(funcPlus(50, 50))\n",
    "print(df)"
   ]
  },
  {
   "cell_type": "code",
   "execution_count": null,
   "id": "ba21f536-5722-4227-ab01-73bad8eb3263",
   "metadata": {},
   "outputs": [],
   "source": []
  },
  {
   "cell_type": "code",
   "execution_count": null,
   "id": "0a3622c5-ff16-46fa-8c96-0a95065feab6",
   "metadata": {},
   "outputs": [],
   "source": []
  }
 ],
 "metadata": {
  "kernelspec": {
   "display_name": "Python 3 (ipykernel)",
   "language": "python",
   "name": "python3"
  },
  "language_info": {
   "codemirror_mode": {
    "name": "ipython",
    "version": 3
   },
   "file_extension": ".py",
   "mimetype": "text/x-python",
   "name": "python",
   "nbconvert_exporter": "python",
   "pygments_lexer": "ipython3",
   "version": "3.9.0"
  }
 },
 "nbformat": 4,
 "nbformat_minor": 5
}
