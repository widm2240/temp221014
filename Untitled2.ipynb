{
 "cells": [
  {
   "cell_type": "code",
   "execution_count": 34,
   "id": "20b9745b-8ab5-415d-84ae-3adfc660762c",
   "metadata": {},
   "outputs": [],
   "source": [
    "#계산기 로그 남기기\n",
    "#1. 날짜를 자동으로 생성해주는 메서드(함수)를 사용하여\n",
    "#funcInsert메서드에 활용\n",
    "#2. 계산하는 메서드를 만들고, 계산 내용을 funcInsert와\n",
    "#연동할 수 있는 아이디어를 생각하고 구현하시오.\n",
    "import pandas as pd\n",
    "#날짜 만드는 메서드\n",
    "import datetime as datetime"
   ]
  },
  {
   "cell_type": "code",
   "execution_count": 36,
   "id": "d9782a29-2155-4fbb-bc20-9d35b62ec839",
   "metadata": {},
   "outputs": [
    {
     "name": "stdout",
     "output_type": "stream",
     "text": [
      "     log      data\n",
      "0  20*20  20221012\n",
      "10 + 20\n"
     ]
    }
   ],
   "source": [
    "exam_data = {'log' : ['20*20'],\n",
    "             'data' : ['20221012']\n",
    "            }\n",
    "global df\n",
    "df = pd.DataFrame(exam_data)\n",
    "print(df)\n",
    "\n",
    "#num1=10\n",
    "#num2=20\n",
    "#*str : 숫자를 문자열로 바꾸는 메서드\n",
    "print(str(num1),'+',str(num2))"
   ]
  },
  {
   "cell_type": "code",
   "execution_count": 37,
   "id": "58cd4c34-47ff-49e0-a429-9a22fa0332ec",
   "metadata": {},
   "outputs": [],
   "source": [
    "#메서드 잘 만드는 법\n",
    "#메서드의 기능은 단순(심플)하게, 그리고 정의를 정확하게\n",
    "def funcInsert(input_log) :\n",
    "    global df\n",
    "    df.loc[len(df)] = [input_log, str(datetime.datetime.now())]\n",
    "#*계산하는 메서드\n",
    "#return 메서드를 실행하고 마지막의 결과물을 반환\n",
    "def funcPlus(input_num1, input_num2) :\n",
    "    strResult = str(input_num1),'+', str(input_num2)\n",
    "    plusResrult = input_num1 + input_num2\n",
    "    return strResult\n"
   ]
  },
  {
   "cell_type": "code",
   "execution_count": 41,
   "id": "55a2056d-5ea1-459c-818a-fd99fd67e939",
   "metadata": {},
   "outputs": [
    {
     "name": "stdout",
     "output_type": "stream",
     "text": [
      "           log                        data\n",
      "0        20*20                    20221012\n",
      "1  (30, +, 50)  2022-10-12 11:17:57.057746\n",
      "2  (30, +, 50)  2022-10-12 11:18:00.731706\n",
      "3  (30, +, 50)  2022-10-12 11:18:03.019854\n",
      "4  (30, +, 50)  2022-10-12 11:18:10.194862\n",
      "5        40*40  2022-10-12 11:18:10.196871\n",
      "('20', '+', '50')\n"
     ]
    }
   ],
   "source": [
    "funcInsert(funcPlus(30, 50))\n",
    "funcInsert('40*40')\n",
    "print(df)\n",
    "print(funcPlus(20,50))"
   ]
  },
  {
   "cell_type": "code",
   "execution_count": 14,
   "id": "618e2b52-bd8e-47b9-8691-5975941be7c7",
   "metadata": {},
   "outputs": [
    {
     "name": "stdout",
     "output_type": "stream",
     "text": [
      "2022-10-12 11:09:57.651251\n",
      "<class 'str'>\n"
     ]
    }
   ],
   "source": [
    "print(str(datetime.datetime.now()))\n",
    "print(type(str(datetime.datetime.now())))"
   ]
  },
  {
   "cell_type": "code",
   "execution_count": null,
   "id": "03b5afb8-ec96-48df-a576-c2932d7cc52b",
   "metadata": {},
   "outputs": [],
   "source": []
  }
 ],
 "metadata": {
  "kernelspec": {
   "display_name": "Python 3 (ipykernel)",
   "language": "python",
   "name": "python3"
  },
  "language_info": {
   "codemirror_mode": {
    "name": "ipython",
    "version": 3
   },
   "file_extension": ".py",
   "mimetype": "text/x-python",
   "name": "python",
   "nbconvert_exporter": "python",
   "pygments_lexer": "ipython3",
   "version": "3.9.0"
  }
 },
 "nbformat": 4,
 "nbformat_minor": 5
}
