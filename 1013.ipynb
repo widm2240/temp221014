{
 "cells": [
  {
   "cell_type": "code",
   "execution_count": 9,
   "id": "6b6fe1a7-4cf5-4d3a-8bbe-a751b52e3a92",
   "metadata": {},
   "outputs": [],
   "source": [
    "import pandas as pd\n",
    "import seaborn as sns\n",
    "from sklearn.datasets import load_iris\n",
    "import matplotlib.pyplot as plt\n",
    "#오늘의 과제\n",
    "#1)학생의 성적을 받는 로직 구현(use DataFrame)\n",
    "#2)학생의 성적을 토대로 분류 모델 머신러닝 구현(use Classifier)"
   ]
  },
  {
   "cell_type": "code",
   "execution_count": 10,
   "id": "af92eb95-9629-4ce9-99b8-9da6a2712820",
   "metadata": {},
   "outputs": [],
   "source": [
    "#1.반복문 + break;\n",
    "#학생 성적을 계속 받아서 데이터에 저장하는 로직\n",
    "# while:\n",
    "#     input('이름을 작성하시오') #중복 조심\n",
    "#     input('국어 성적을 입력하시오')\n",
    "    #데이터 프레임에 저장\n",
    "#extra. 이상치, 결손값 같은 데이터 불균형 상황을 어떤 프로세스로 작업을 할지 생각하기\n",
    "#ex) 데이터 입력도중에 점수가 100점 이하여야만 하는데 오타로 405점 같은 100점 이상의 데이터가 들어갈 경우 \n",
    "\n",
    "#2. 저장된 데이터 프레임을 csv확장자로 저장하기\n",
    "#3. csv로 저장된 데이터 불러와서 데이터프레임에 저장\n",
    "#(csv를 코드 초기에 불러오는 로직을 구현하여 DB대체 사용)"
   ]
  },
  {
   "cell_type": "code",
   "execution_count": 11,
   "id": "96e81d70-0b1d-4af5-a288-15cab9366173",
   "metadata": {},
   "outputs": [],
   "source": [
    "global df\n",
    "df = pd.DataFrame(index=range(0,0), columns = ['이름','국어','수학','물리','세계사','분류'])"
   ]
  },
  {
   "cell_type": "code",
   "execution_count": 25,
   "id": "e2bbc1ca-bfba-4fbe-b687-2ec922635820",
   "metadata": {},
   "outputs": [],
   "source": [
    "def insert():\n",
    "    global df\n",
    "    name = input('이름을 작성하시오')\n",
    "    if (df.이름 == name).any():\n",
    "        name = input('중복된 이름입니다. 다시 입력하세요')\n",
    "    else:\n",
    "        Korean = input('국어 성적을 입력하시오')\n",
    "        Math = input('수학 성적을 입력하시오')\n",
    "        Physic = input('물리 성적을 입력하시오')\n",
    "        History = input('세계사 성적을 입력하시오')\n",
    "        Category = input('과를 입력하시오')\n",
    "        df.loc[len(df)]=[name, Korean, Math, Physic, History, Category]\n",
    "        \n",
    "        # Korean = input('국어 성적을 입력하시오')\n",
    "        # if (Korean == '') or (int(Korean) > 100):\n",
    "        #     Korean = input('국어 성적을 다시 입력하시오')\n",
    "        # else: \n",
    "        #     Math = input('수학 성적을 입력하시오')\n",
    "        #     if(Math == '') or (int(Math) > 100):\n",
    "        #         Math = input('수학 성적을 다시 입력하시오')\n",
    "        #     else:\n",
    "        #         Physic = input('물리 성적을 입력하시오')\n",
    "        #         if(Physic == '') or (int(Physic) > 100):\n",
    "        #             Physic = input('물리 성적을 다시 입력하시오')\n",
    "        #         else:\n",
    "        #             History = input('세계사 성적을 입력하시오')\n",
    "        #             if(History == '') or (int(History) > 100):\n",
    "        #                 History = input('세계사 성적을 다시 입력하시오')\n",
    "        #             else:\n",
    "        #                 df.loc[len(df)]=[name, Korean, Math, Physic, History]\n",
    "   \n",
    "                \n",
    "def info() :\n",
    "    global df\n",
    "    print(df)\n",
    "    \n",
    "def saveCSV():\n",
    "    global df\n",
    "    df.to_csv('./studentGrade.csv', index=False)\n",
    "    \n",
    "def loadCSV():\n",
    "    global df\n",
    "    file_path = './studentGrade.csv'\n",
    "    df = pd.read_csv(file_path)\n",
    "    \n",
    "def viewGraph():\n",
    "    global df\n",
    "    df.Math[:].plot(kind='bar', rot=0)\n",
    "    \n",
    "def mathDataInfo():\n",
    "    global df\n",
    "    mathData = df.iloc[:,2:3]\n",
    "    print(mathData)\n",
    "\n",
    "#데이터 불러오고, 0~100점 사이의 값이 없을 경우 (이상치)\n",
    "#데이터 자체가 없을 경우(결손값)  => 두 경우 모두 평균값으로 대체\n",
    "#데이터 불러왔을 때 과목 이름의 따라 (column 에 따라 ) 평균값이 달라짐\n",
    "#결손값은 null값 혹은 0값 찾고, 이상치는 0~100점 사이 외의 값 찾기\n",
    "#df.loc[df['수학'] == 조건넣기, ('수학')] = 바뀔 평균값\n",
    "#axis : axis='rows' =row(튜플)기준으로 값을 도출\n",
    "#numeric_only=True : 데이터는 반드시 숫자로 인식한다는 옵션(데이터 갯수 인식 포함)\n",
    "def dataFix():\n",
    "    global df\n",
    "    #1)컬럼마다 평균값 구하기\n",
    "    # kavg = df['국어'].mean()\n",
    "    # mavg = df['수학'].mean()\n",
    "    # pavg = df['물리'].mean()\n",
    "    # havg = df['세계사'].mean()\n",
    "    avg = df.mean(axis='rows', numeric_only=True)\n",
    "    #2)컬럼의 결손 위치, 이상 위치를 찾아서 업데이트 \n",
    "    # global df\n",
    "    count = 0\n",
    "    for count in range(len(df.index)):\n",
    "        k = 1\n",
    "        for i in range(len(df.columns)):\n",
    "            if (df.iloc[count,k] == ' ') or (int(df.iloc[count,k]) == 0) or (int(df.iloc[count,k]) > 100):\n",
    "                df.iloc[count,k] = df.iloc[:,k].mean()\n",
    "            else: \n",
    "                break\n",
    "            k=k+1\n",
    "        count=count+1\n",
    "    print(df)\n",
    "    # count = 1\n",
    "    # for i in avg:\n",
    "    #     df.loc[df.iloc[:,count] > 100, df.columns[count]] = round(i)\n",
    "    #     df.loc[df.iloc[:,count] < 0, df.columns[count]] = round(i)\n",
    "    #     count = count+1\n",
    "    # print(df)"
   ]
  },
  {
   "cell_type": "code",
   "execution_count": 20,
   "id": "3ef8be91-c355-4bec-945e-e4c604e7874a",
   "metadata": {},
   "outputs": [
    {
     "name": "stdout",
     "output_type": "stream",
     "text": [
      "    이름  국어  수학  물리 세계사  분류\n",
      "0  김준석  11  44  44  11  이과\n",
      "1  박준석  22  55  44  22  이과\n",
      "2  가준석  77  11  22  55  문과\n",
      "3  나준석  88  22  55  77  문과\n",
      "4  다준석  22  44  33  11  이과\n",
      "5  라준석  77  22  44  77  문과\n"
     ]
    }
   ],
   "source": [
    "info()\n",
    "saveCSV()"
   ]
  },
  {
   "cell_type": "code",
   "execution_count": 21,
   "id": "a8d39f36-bb01-4e0f-8c9f-1f7498310726",
   "metadata": {},
   "outputs": [
    {
     "name": "stdout",
     "output_type": "stream",
     "text": [
      "    이름  국어  수학  물리  세계사  분류\n",
      "0  김준석  11  44  44   11  이과\n",
      "1  박준석  22  55  44   22  이과\n",
      "2  가준석  77  11  22   55  문과\n",
      "3  나준석  88  22  55   77  문과\n",
      "4  다준석  22  44  33   11  이과\n",
      "5  라준석  77  22  44   77  문과\n"
     ]
    },
    {
     "name": "stdin",
     "output_type": "stream",
     "text": [
      "학생 성적을 입력하시겠습니까? 혹은 끝내겠습니까? y\n",
      "이름을 작성하시오 오준석\n",
      "국어 성적을 입력하시오 44\n",
      "수학 성적을 입력하시오 66\n",
      "물리 성적을 입력하시오 66\n",
      "세계사 성적을 입력하시오 11\n",
      "과를 입력하시오 이과\n",
      "학생 성적을 입력하시겠습니까? 혹은 끝내겠습니까? ㅛ\n"
     ]
    },
    {
     "name": "stdout",
     "output_type": "stream",
     "text": [
      "    이름  국어  수학  물리 세계사  분류\n",
      "0  김준석  11  44  44  11  이과\n",
      "1  박준석  22  55  44  22  이과\n",
      "2  가준석  77  11  22  55  문과\n",
      "3  나준석  88  22  55  77  문과\n",
      "4  다준석  22  44  33  11  이과\n",
      "5  라준석  77  22  44  77  문과\n",
      "6  오준석  44  66  66  11  이과\n"
     ]
    }
   ],
   "source": [
    "#데이터는 반복문 밖에서 불러오면 단 1번만 실행하므로 불확정 요소 연산을 줄일수 있다. \n",
    "#계속 반복적으로 csv파일을 로드하는 작업은 컴퓨터에 부하를 야기할 수 있다. \n",
    "loadCSV()\n",
    "info()\n",
    "while True:\n",
    "    choice = input('학생 성적을 입력하시겠습니까? 혹은 끝내겠습니까?')\n",
    "    if choice == 'y':\n",
    "        insert()\n",
    "    else: \n",
    "        info()\n",
    "        saveCSV()\n",
    "        break"
   ]
  },
  {
   "cell_type": "code",
   "execution_count": 26,
   "id": "6c53c93a-1c48-4af4-a5bf-ac344a7d627c",
   "metadata": {},
   "outputs": [
    {
     "ename": "AttributeError",
     "evalue": "'DataFrame' object has no attribute 'Math'",
     "output_type": "error",
     "traceback": [
      "\u001b[1;31m---------------------------------------------------------------------------\u001b[0m",
      "\u001b[1;31mAttributeError\u001b[0m                            Traceback (most recent call last)",
      "Input \u001b[1;32mIn [26]\u001b[0m, in \u001b[0;36m<cell line: 1>\u001b[1;34m()\u001b[0m\n\u001b[1;32m----> 1\u001b[0m \u001b[43mviewGraph\u001b[49m\u001b[43m(\u001b[49m\u001b[43m)\u001b[49m\n",
      "Input \u001b[1;32mIn [25]\u001b[0m, in \u001b[0;36mviewGraph\u001b[1;34m()\u001b[0m\n\u001b[0;32m     46\u001b[0m \u001b[38;5;28;01mdef\u001b[39;00m \u001b[38;5;21mviewGraph\u001b[39m():\n\u001b[0;32m     47\u001b[0m     \u001b[38;5;28;01mglobal\u001b[39;00m df\n\u001b[1;32m---> 48\u001b[0m     \u001b[43mdf\u001b[49m\u001b[38;5;241;43m.\u001b[39;49m\u001b[43mMath\u001b[49m[:]\u001b[38;5;241m.\u001b[39mplot(kind\u001b[38;5;241m=\u001b[39m\u001b[38;5;124m'\u001b[39m\u001b[38;5;124mbar\u001b[39m\u001b[38;5;124m'\u001b[39m, rot\u001b[38;5;241m=\u001b[39m\u001b[38;5;241m0\u001b[39m)\n",
      "File \u001b[1;32m~\\.conda\\envs\\newPandas\\lib\\site-packages\\pandas\\core\\generic.py:5575\u001b[0m, in \u001b[0;36mNDFrame.__getattr__\u001b[1;34m(self, name)\u001b[0m\n\u001b[0;32m   5568\u001b[0m \u001b[38;5;28;01mif\u001b[39;00m (\n\u001b[0;32m   5569\u001b[0m     name \u001b[38;5;129;01mnot\u001b[39;00m \u001b[38;5;129;01min\u001b[39;00m \u001b[38;5;28mself\u001b[39m\u001b[38;5;241m.\u001b[39m_internal_names_set\n\u001b[0;32m   5570\u001b[0m     \u001b[38;5;129;01mand\u001b[39;00m name \u001b[38;5;129;01mnot\u001b[39;00m \u001b[38;5;129;01min\u001b[39;00m \u001b[38;5;28mself\u001b[39m\u001b[38;5;241m.\u001b[39m_metadata\n\u001b[0;32m   5571\u001b[0m     \u001b[38;5;129;01mand\u001b[39;00m name \u001b[38;5;129;01mnot\u001b[39;00m \u001b[38;5;129;01min\u001b[39;00m \u001b[38;5;28mself\u001b[39m\u001b[38;5;241m.\u001b[39m_accessors\n\u001b[0;32m   5572\u001b[0m     \u001b[38;5;129;01mand\u001b[39;00m \u001b[38;5;28mself\u001b[39m\u001b[38;5;241m.\u001b[39m_info_axis\u001b[38;5;241m.\u001b[39m_can_hold_identifiers_and_holds_name(name)\n\u001b[0;32m   5573\u001b[0m ):\n\u001b[0;32m   5574\u001b[0m     \u001b[38;5;28;01mreturn\u001b[39;00m \u001b[38;5;28mself\u001b[39m[name]\n\u001b[1;32m-> 5575\u001b[0m \u001b[38;5;28;01mreturn\u001b[39;00m \u001b[38;5;28;43mobject\u001b[39;49m\u001b[38;5;241;43m.\u001b[39;49m\u001b[38;5;21;43m__getattribute__\u001b[39;49m\u001b[43m(\u001b[49m\u001b[38;5;28;43mself\u001b[39;49m\u001b[43m,\u001b[49m\u001b[43m \u001b[49m\u001b[43mname\u001b[49m\u001b[43m)\u001b[49m\n",
      "\u001b[1;31mAttributeError\u001b[0m: 'DataFrame' object has no attribute 'Math'"
     ]
    }
   ],
   "source": [
    "viewGraph()"
   ]
  },
  {
   "cell_type": "code",
   "execution_count": 28,
   "id": "d46e0a27-cb2b-4510-b7a9-3faab0ac8cd1",
   "metadata": {},
   "outputs": [
    {
     "name": "stdout",
     "output_type": "stream",
     "text": [
      "   국어  수학  물리  세계사\n",
      "0  11  44  44   11\n",
      "1  22  55  44   22\n",
      "2  77  11  22   55\n",
      "3  88  22  55   77\n",
      "4  22  44  33   11\n",
      "5  77  22  44   77\n",
      "6  44  66  66   11\n"
     ]
    }
   ],
   "source": [
    "loadCSV()\n",
    "X = df.iloc[:,1:-1]\n",
    "y = df.iloc[:,-1]\n",
    "print(X)"
   ]
  },
  {
   "cell_type": "code",
   "execution_count": 29,
   "id": "1c058960-7ed8-4c25-a5e2-d33a98b2bfee",
   "metadata": {},
   "outputs": [],
   "source": [
    "from sklearn.model_selection import train_test_split"
   ]
  },
  {
   "cell_type": "code",
   "execution_count": 30,
   "id": "5a31884d-d8c9-4ecb-a016-cfd5a47b1038",
   "metadata": {},
   "outputs": [],
   "source": [
    "#학습용 모델링 만들기\n",
    "train_X, test_X, train_y, test_y = train_test_split(X, y, test_size=0.25, random_state=1)\n"
   ]
  },
  {
   "cell_type": "code",
   "execution_count": 31,
   "id": "7dc40b7d-92bb-4f60-8535-168ff17f1f20",
   "metadata": {},
   "outputs": [],
   "source": [
    "from sklearn.tree import DecisionTreeClassifier\n",
    "from sklearn.neural_network import MLPClassifier"
   ]
  },
  {
   "cell_type": "code",
   "execution_count": 32,
   "id": "be397b60-3d93-454d-88c1-4615edf05ff8",
   "metadata": {},
   "outputs": [
    {
     "data": {
      "text/html": [
       "<div>\n",
       "<style scoped>\n",
       "    .dataframe tbody tr th:only-of-type {\n",
       "        vertical-align: middle;\n",
       "    }\n",
       "\n",
       "    .dataframe tbody tr th {\n",
       "        vertical-align: top;\n",
       "    }\n",
       "\n",
       "    .dataframe thead th {\n",
       "        text-align: right;\n",
       "    }\n",
       "</style>\n",
       "<table border=\"1\" class=\"dataframe\">\n",
       "  <thead>\n",
       "    <tr style=\"text-align: right;\">\n",
       "      <th>col_0</th>\n",
       "      <th>문과</th>\n",
       "      <th>이과</th>\n",
       "    </tr>\n",
       "    <tr>\n",
       "      <th>분류</th>\n",
       "      <th></th>\n",
       "      <th></th>\n",
       "    </tr>\n",
       "  </thead>\n",
       "  <tbody>\n",
       "    <tr>\n",
       "      <th>문과</th>\n",
       "      <td>1</td>\n",
       "      <td>0</td>\n",
       "    </tr>\n",
       "    <tr>\n",
       "      <th>이과</th>\n",
       "      <td>0</td>\n",
       "      <td>1</td>\n",
       "    </tr>\n",
       "  </tbody>\n",
       "</table>\n",
       "</div>"
      ],
      "text/plain": [
       "col_0  문과  이과\n",
       "분류           \n",
       "문과      1   0\n",
       "이과      0   1"
      ]
     },
     "execution_count": 32,
     "metadata": {},
     "output_type": "execute_result"
    }
   ],
   "source": [
    "#DecisionTreeClassifier 알고리즘으로 모델 형태 만들기\n",
    "dt_model = DecisionTreeClassifier(random_state = 1)\n",
    "#학습진행\n",
    "dt_model.fit(train_X, train_y)\n",
    "#검증진행\n",
    "dt_model.predict(test_X)\n",
    "dt_pred_y = dt_model.predict(test_X)\n",
    "#테이블 모형으로 예측결과 출력하기\n",
    "pd.crosstab(test_y, dt_pred_y)\n"
   ]
  },
  {
   "cell_type": "code",
   "execution_count": 26,
   "id": "b9866319-409d-489c-a052-dc8bf00d1a50",
   "metadata": {},
   "outputs": [
    {
     "data": {
      "text/html": [
       "<div>\n",
       "<style scoped>\n",
       "    .dataframe tbody tr th:only-of-type {\n",
       "        vertical-align: middle;\n",
       "    }\n",
       "\n",
       "    .dataframe tbody tr th {\n",
       "        vertical-align: top;\n",
       "    }\n",
       "\n",
       "    .dataframe thead th {\n",
       "        text-align: right;\n",
       "    }\n",
       "</style>\n",
       "<table border=\"1\" class=\"dataframe\">\n",
       "  <thead>\n",
       "    <tr style=\"text-align: right;\">\n",
       "      <th>col_0</th>\n",
       "      <th>문과</th>\n",
       "      <th>이과</th>\n",
       "    </tr>\n",
       "    <tr>\n",
       "      <th>분류</th>\n",
       "      <th></th>\n",
       "      <th></th>\n",
       "    </tr>\n",
       "  </thead>\n",
       "  <tbody>\n",
       "    <tr>\n",
       "      <th>이과</th>\n",
       "      <td>1</td>\n",
       "      <td>1</td>\n",
       "    </tr>\n",
       "  </tbody>\n",
       "</table>\n",
       "</div>"
      ],
      "text/plain": [
       "col_0  문과  이과\n",
       "분류           \n",
       "이과      1   1"
      ]
     },
     "execution_count": 26,
     "metadata": {},
     "output_type": "execute_result"
    }
   ],
   "source": [
    "#MLPCloassifier 알고리즘 모델 형태 만들기\n",
    "mlp_model = MLPClassifier(hidden_layer_sizes=(100,200,50,20),max_iter=500,random_state=1)\n",
    "mlp_model.fit(train_X, train_y)\n",
    "mlp_model.predict(test_X)\n",
    "mlp_pred_y = mlp_model.predict(test_X)\n",
    "pd.crosstab(test_y, dt_pred_y)"
   ]
  }
 ],
 "metadata": {
  "kernelspec": {
   "display_name": "Python 3 (ipykernel)",
   "language": "python",
   "name": "python3"
  },
  "language_info": {
   "codemirror_mode": {
    "name": "ipython",
    "version": 3
   },
   "file_extension": ".py",
   "mimetype": "text/x-python",
   "name": "python",
   "nbconvert_exporter": "python",
   "pygments_lexer": "ipython3",
   "version": "3.9.0"
  }
 },
 "nbformat": 4,
 "nbformat_minor": 5
}
