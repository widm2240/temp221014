{
 "cells": [
  {
   "cell_type": "code",
   "execution_count": 2,
   "id": "8567724b-459a-49d1-84d0-600837c10418",
   "metadata": {},
   "outputs": [],
   "source": [
    "import pandas as pd"
   ]
  },
  {
   "cell_type": "code",
   "execution_count": null,
   "id": "5dc58378-78d4-4d1d-9710-cc63978a0306",
   "metadata": {},
   "outputs": [],
   "source": [
    "#회원가입 만들기\n",
    "#1. id, pw, name 변수의 값을 저장하는 데이터 프레임을 만드시오\n",
    "#dataFrame()으로 df 변수 만들어서 안에 컬럼(id,pw,name) 넣기\n",
    "#빈 데이터 프레임 만들기\n",
    "global df\n",
    "#index=range(0,0) : 크기 0(칸이 0개)\n",
    "#columns=['id','pw','name'] : 컬럼이 각각 id, pw, name\n",
    "df=pd.Dtaframe(index=range(0,0), columns=['id','pw','name']\n",
    "\n",
    "#2. id, pw, name 값을 받는 메서드를 만들고, df(데이터프레임)에 저장하는 기능 구현\n",
    "\n",
    "#3. id값을 찾아서 같은 id값이면 '같은 아이디가 있습니다.' 출력하는 메서드 구현\n",
    "#if문으로 id값이 같은지 찾은 뒤, 문자열 출력\n",
    "#*참고\n",
    "# if '이름' indict_data:\n",
    "#     print('나의 이름은 '+dict_data['이름'])\n",
    "# else:\n",
    "#     print('이름 없음')\n",
    "\n",
    "\n",
    "#4. id값을 찾아서 그 row의 pw의 값을 변경하는 메서드 구현\n",
    "#funcUpdate메서드를 참고하여 값을 변경하는 기능을 구현하기\n",
    "#*참고\n",
    "# def funcUpdate(name, num1, num2, num3, num4) :\n",
    "#     global ef\n",
    "#     ef.loc[ef.이름 == name, ('수학', '영어', '음악', '체육')] = (num1, num2, num3, num4)"
   ]
  },
  {
   "cell_type": "code",
   "execution_count": 14,
   "id": "f662ec6e-859b-4fbc-994e-4b400fd37534",
   "metadata": {},
   "outputs": [],
   "source": [
    "#자바의 Scanner 클래스와 동일, 사용자의 입력값을 키보드와 버퍼를 통해\n",
    "#데이터를 받아서 python 인터프린트에 저장\n",
    "def insertData() :\n",
    "    global df\n",
    "    input_id = input('아이디를 입력하시오')\n",
    "    input_pw = input('비밀번호를 입력하시오')\n",
    "    input_name = input('이름을 입력하시오')\n",
    "    #입력받은 값이 데이터프레임에 한 개라도 존재하면 true\n",
    "    print((df['name'] == input_id.any())\n",
    "    if(df['name'] == input_id).any():\n",
    "          print('같은 아이디가 있습니다.')\n",
    "    else:\n",
    "          print('같은 아이디가 없습니다.')\n",
    "    \n",
    "    \n",
    "#all() 값이 동일하게 존재하는지 확인(모든 값이 같은가?)\n",
    "#any() 값이 존재하는지 확인\n",
    "def checkData(name):\n",
    "    global df\n",
    "    if (df['name'] == name).any():\n",
    "        print('이름 확인')\n",
    "    else :\n",
    "        print('이름 확인 불가')\n",
    "\n",
    "def updateData(name, pw) :\n",
    "    global df\n",
    "    df.loc[df.name == name, ('pw')] = (input('바꿀 비밀번호를 입력하시오'))"
   ]
  },
  {
   "cell_type": "code",
   "execution_count": 18,
   "id": "8de6adac-e403-483d-9be5-14af7ef62645",
   "metadata": {},
   "outputs": [
    {
     "name": "stdout",
     "output_type": "stream",
     "text": [
      "이름 없음\n"
     ]
    }
   ],
   "source": [
    "insertData()"
   ]
  },
  {
   "cell_type": "code",
   "execution_count": 15,
   "id": "d7a7df4d-b09b-4af5-a21e-13e58dcdc4cf",
   "metadata": {},
   "outputs": [
    {
     "name": "stdout",
     "output_type": "stream",
     "text": [
      "     id      pw name\n",
      "0  num1  123490   정석\n",
      "1  num2  123480   주아\n",
      "2  num3  123470   주란\n",
      "3  widm    1234  이정석\n",
      "4  qewr    1234  이정석\n"
     ]
    }
   ],
   "source": [
    "print(df)"
   ]
  },
  {
   "cell_type": "code",
   "execution_count": 20,
   "id": "610c72b3-5d39-434b-a3b5-2ffb6d25fac3",
   "metadata": {},
   "outputs": [
    {
     "name": "stdout",
     "output_type": "stream",
     "text": [
      "     id      pw name\n",
      "0  num1  123490   정석\n",
      "1  num2  123480   주아\n",
      "2  num3  123470   주란\n",
      "3  widm    1234  이정석\n",
      "4  qewr    1234  이정석\n",
      "       pw\n",
      "0  123490\n",
      "1  123480\n",
      "2  123470\n",
      "3    1234\n",
      "4    1234\n",
      "       pw name\n",
      "0  123490   정석\n",
      "1  123480   주아\n",
      "2  123470   주란\n",
      "3    1234  이정석\n",
      "4    1234  이정석\n",
      "     id      pw\n",
      "0  num1  123490\n",
      "1  num2  123480\n",
      "2  num3  123470\n",
      "3  widm    1234\n",
      "4  qewr    1234\n"
     ]
    }
   ],
   "source": [
    "#print(df.iloc[0,1])\n",
    "#print(df.iloc[0,2])\n",
    "#loc(컬럼명)\n",
    "#loc(index)\n",
    "print(df)\n",
    "#슬라이싱은 시작 지점(포함):끝나는 지점 미만(불포함))\n",
    "#             y축 x축\n",
    "print(df.iloc[:,1:2])\n",
    "print(df.iloc[:,1:])\n",
    "#-1의 경우 0에서 뒤로 1컬럼 가므로, max값으로 지정\n",
    "print(df.iloc[:,:-1])"
   ]
  }
 ],
 "metadata": {
  "kernelspec": {
   "display_name": "Python 3 (ipykernel)",
   "language": "python",
   "name": "python3"
  },
  "language_info": {
   "codemirror_mode": {
    "name": "ipython",
    "version": 3
   },
   "file_extension": ".py",
   "mimetype": "text/x-python",
   "name": "python",
   "nbconvert_exporter": "python",
   "pygments_lexer": "ipython3",
   "version": "3.9.0"
  }
 },
 "nbformat": 4,
 "nbformat_minor": 5
}
