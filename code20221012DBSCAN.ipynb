{
 "cells": [
  {
   "cell_type": "code",
   "execution_count": 2,
   "id": "4a3a3ef8-5571-4a4d-b72f-609ffa66990b",
   "metadata": {},
   "outputs": [],
   "source": [
    "import pandas as pd\n",
    "import folium"
   ]
  },
  {
   "cell_type": "code",
   "execution_count": 3,
   "id": "23acb0aa-feeb-4a4c-9e16-f216bd786f59",
   "metadata": {},
   "outputs": [],
   "source": [
    "file_path = file_path = './2016_middle_shcool_graduates_report.xlsx'"
   ]
  },
  {
   "cell_type": "code",
   "execution_count": 6,
   "id": "9d309366-a956-431a-96e3-ee716e9efe87",
   "metadata": {},
   "outputs": [],
   "source": [
    "df = pd.read_excel(file_path, engine='openpyxl', header=0)"
   ]
  },
  {
   "cell_type": "code",
   "execution_count": 9,
   "id": "7f7f7a5c-f1c9-4410-a224-6c173c4e7e51",
   "metadata": {},
   "outputs": [],
   "source": [
    "pd.set_option('display.width', None)\n",
    "pd.set_option('display.max_rows', 100)\n",
    "pd.set_option('display.max_colwidth', 20)\n",
    "pd.set_option('display.unicode.east_asian_width', True)"
   ]
  },
  {
   "cell_type": "code",
   "execution_count": 12,
   "id": "290fdd0d-4262-4894-b79c-95c1c50d1894",
   "metadata": {},
   "outputs": [
    {
     "name": "stdout",
     "output_type": "stream",
     "text": [
      "       Unnamed: 0        코드    남학생수    여학생수      일반고    특성화고  \\\n",
      "count  415.000000  415.000000  415.000000  415.000000  415.000000  415.000000   \n",
      "mean   207.000000    3.197590  126.532530  116.173494    0.623080    0.149684   \n",
      "std    119.944432    0.804272   79.217906   76.833082    0.211093    0.102977   \n",
      "min      0.000000    3.000000    0.000000    0.000000    0.000000    0.000000   \n",
      "25%    103.500000    3.000000   80.000000   71.500000    0.566500    0.065500   \n",
      "50%    207.000000    3.000000  129.000000  118.000000    0.681000    0.149000   \n",
      "75%    310.500000    3.000000  177.500000  161.500000    0.758000    0.224500   \n",
      "max    414.000000    9.000000  337.000000  422.000000    0.908000    0.477000   \n",
      "\n",
      "           과학고  외고_국제고   예고_체고  마이스터고      자사고  \\\n",
      "count  415.000000   415.000000  415.000000  415.000000  415.000000   \n",
      "mean     0.004378     0.013687    0.017393    0.005251    0.080971   \n",
      "std      0.006739     0.011548    0.092006    0.007557    0.079136   \n",
      "min      0.000000     0.000000    0.000000    0.000000    0.000000   \n",
      "25%      0.000000     0.006000    0.000000    0.000000    0.027000   \n",
      "50%      0.000000     0.012000    0.005000    0.003000    0.060000   \n",
      "75%      0.006000     0.019000    0.011000    0.007000    0.111500   \n",
      "max      0.055000     0.110000    0.940000    0.046000    0.485000   \n",
      "\n",
      "           자공고    기타진학   취업        미상        위도        경도  \n",
      "count  415.000000  415.000000  415.0  415.000000  415.000000  415.000000  \n",
      "mean     0.034296    0.069571    0.0    0.001670   37.491969  127.032792  \n",
      "std      0.080302    0.235630    0.0    0.003697    0.348926    0.265245  \n",
      "min      0.000000    0.000000    0.0    0.000000   34.979940  126.639561  \n",
      "25%      0.000000    0.000000    0.0    0.000000   37.501934  126.921758  \n",
      "50%      0.000000    0.007000    0.0    0.000000   37.547702  127.013579  \n",
      "75%      0.019000    0.015000    0.0    0.003000   37.590670  127.071265  \n",
      "max      0.531000    1.000000    0.0    0.036000   37.694777  129.106974  \n"
     ]
    }
   ],
   "source": [
    "print(df.describe())"
   ]
  },
  {
   "cell_type": "code",
   "execution_count": null,
   "id": "3b94869a-c891-4914-92ec-6dfc8c455fea",
   "metadata": {},
   "outputs": [],
   "source": []
  }
 ],
 "metadata": {
  "kernelspec": {
   "display_name": "Python 3 (ipykernel)",
   "language": "python",
   "name": "python3"
  },
  "language_info": {
   "codemirror_mode": {
    "name": "ipython",
    "version": 3
   },
   "file_extension": ".py",
   "mimetype": "text/x-python",
   "name": "python",
   "nbconvert_exporter": "python",
   "pygments_lexer": "ipython3",
   "version": "3.9.0"
  }
 },
 "nbformat": 4,
 "nbformat_minor": 5
}
