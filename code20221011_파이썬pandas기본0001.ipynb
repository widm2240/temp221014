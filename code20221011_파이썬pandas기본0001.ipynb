{
 "cells": [
  {
   "cell_type": "code",
   "execution_count": 1,
   "id": "8d6ce358-1c8b-4873-b288-002f770749ba",
   "metadata": {},
   "outputs": [
    {
     "name": "stdout",
     "output_type": "stream",
     "text": [
      "hello world\n"
     ]
    }
   ],
   "source": [
    "print(\"hello world\")"
   ]
  },
  {
   "cell_type": "code",
   "execution_count": 2,
   "id": "6986ee78-cf69-46b0-b60e-b7132d3bea01",
   "metadata": {},
   "outputs": [
    {
     "name": "stdout",
     "output_type": "stream",
     "text": [
      "김준석\n"
     ]
    }
   ],
   "source": [
    "#자바 : 정적타입 : 개발자가 타입을 명시 : String name = \"김준석\";\n",
    "#파이썬 : 동적타입 : 메모리에 할당 된 값을 보고 언어가 유추하여 타입 지정\n",
    "# name = \"김준석\"\n",
    "age = 30\n",
    "name = \"김준석\"\n",
    "print(name)"
   ]
  },
  {
   "cell_type": "code",
   "execution_count": 140,
   "id": "38efd889-441f-46cd-943f-48b4b4135c62",
   "metadata": {},
   "outputs": [
    {
     "name": "stdout",
     "output_type": "stream",
     "text": [
      "휴먼교육센터 3클래스  김준석\n"
     ]
    }
   ],
   "source": [
    "class1 = \"휴먼교육센터 3클래스 \"\n",
    "print(class1,name)"
   ]
  },
  {
   "cell_type": "code",
   "execution_count": 1,
   "id": "1f953dc6-facb-4c74-af4a-82b0848ed7c7",
   "metadata": {},
   "outputs": [
    {
     "name": "stdout",
     "output_type": "stream",
     "text": [
      "<class 'pandas.core.series.Series'>\n",
      "\n",
      "\n",
      "a       1\n",
      "b       2\n",
      "c       3\n",
      "김준석    교사\n",
      "dtype: object\n"
     ]
    }
   ],
   "source": [
    "#import : 라이브러리 pandas를 가져다\n",
    "#쓰겠다\n",
    "#as : 별칭 (별칭으로 라이브러리를 지목)\n",
    "import pandas as pd\n",
    "#dict_data : 변수 : 변수하는 수 <> 상수\n",
    "# dict_data 변수이름을 지어서 =(대입연산자 : 우측 항 데이터를)\n",
    "# 좌측 항 변수에 저장(할당)\n",
    "# 'a' : 1 (a를 호출하면 1이라는 값이 출력)\n",
    "# 'a' 문자열, 1은 정수(숫자)\n",
    "dict_data = {'a':1, 'b':2, 'c':3, '김준석':'교사'}\n",
    "#pd(pandas별칭)의 Series 메서드를 실행\n",
    "#인자값 dict_data를 넣음\n",
    "sr = pd.Series(dict_data)\n",
    "print(type(sr))\n",
    "print('\\n')\n",
    "print(sr)"
   ]
  },
  {
   "cell_type": "code",
   "execution_count": 13,
   "id": "4ab263c4-292e-4e49-b000-35ab60b8494f",
   "metadata": {},
   "outputs": [
    {
     "name": "stdout",
     "output_type": "stream",
     "text": [
      "0    2019-01-02\n",
      "1          2.14\n",
      "2           ABC\n",
      "3           100\n",
      "4          True\n",
      "dtype: object\n"
     ]
    }
   ],
   "source": [
    "#참조타입 : 변수와 변수값을 연결하는(주소값) 타입 <> 기본타입\n",
    "list_data = ['2019-01-02', 2.14, 'ABC', 100, True]\n",
    "#sr이라는 변수이름에 원래 데이터는 dict_data이였으나, \n",
    "#list_data로 만들어진 값을 sr변수에 대체 연결\n",
    "sr = pd.Series(list_data)\n",
    "print(sr)"
   ]
  },
  {
   "cell_type": "code",
   "execution_count": 19,
   "id": "1956c28d-732d-4170-b3ec-de5ca3c86485",
   "metadata": {},
   "outputs": [
    {
     "name": "stdout",
     "output_type": "stream",
     "text": [
      "나의 이름은 김준석\n"
     ]
    }
   ],
   "source": [
    "#학생의 개인정보를 저장하는 딕셔너리 배열을 만들고, \n",
    "#(이름, id, pw, 성별 등등)\n",
    "#그 중에 이름을 출력하는 print메서드를 실행하시오\n",
    "\n",
    "#{}중괄호 : map(key, value) \n",
    "#example = {key:value, key:value..}\n",
    "#[]대괄호 : 배열\n",
    "#example = [1,2,3,4,5..]\n",
    "dict_data = {'이름': '김준석', '직업':'교사', \n",
    "             'id':'abcd', 'pw':1234, '성별': '남'}\n",
    "#향상된 반복문 \n",
    "#자바) for(String item : stringArray)\n",
    "#기본 반복문과 동일하나, 배열 처음부터 끝까지 모두 조회를\n",
    "#간략화한 코드 : for(int i = 0; i<stringArray.length; i++)\n",
    "#파이썬)\n",
    "#item in itemArray:\n",
    "#itemArray 배열을 모두 순회하면서 하나씩 가져옴\n",
    "if '이름' in dict_data:\n",
    "    print('나의 이름은 '+dict_data['이름'])\n",
    "else:\n",
    "    print('이름 없음')"
   ]
  },
  {
   "cell_type": "code",
   "execution_count": 23,
   "id": "da6ae968-9acf-4976-9e9c-65c3f6b7e04d",
   "metadata": {},
   "outputs": [
    {
     "name": "stdout",
     "output_type": "stream",
     "text": [
      "이름     김준석\n",
      "id    abcd\n",
      "pw    1234\n",
      "직업      교사\n",
      "성별       남\n",
      "주소     NaN\n",
      "dtype: object\n"
     ]
    }
   ],
   "source": [
    "sr = pd.Series(dict_data, index=['이름', 'id', 'pw', '직업', '성별', '주소'])\n",
    "print(sr)"
   ]
  },
  {
   "cell_type": "code",
   "execution_count": 29,
   "id": "075bb001-af46-4db6-86b4-613685b7a1fd",
   "metadata": {},
   "outputs": [
    {
     "name": "stdout",
     "output_type": "stream",
     "text": [
      "이름     김준석\n",
      "id    abcd\n",
      "pw    1234\n",
      "직업      교사\n",
      "성별       남\n",
      "dtype: object\n"
     ]
    }
   ],
   "source": [
    "print(sr[:-1])"
   ]
  },
  {
   "cell_type": "code",
   "execution_count": 31,
   "id": "0b144e0e-1679-4d73-88e0-3875f89fd24e",
   "metadata": {},
   "outputs": [
    {
     "name": "stdout",
     "output_type": "stream",
     "text": [
      "    나이 성별   학교\n",
      "준서  15  남  덕영중\n",
      "예은  17  여  수리중\n"
     ]
    }
   ],
   "source": [
    "df = pd.DataFrame([[15, '남', '덕영중'],\n",
    "                   [17, '여', '수리중']],\n",
    "                  index = ['준서', '예은'],\n",
    "                  columns= ['나이', '성별', '학교'])\n",
    "\n",
    "print(df)"
   ]
  },
  {
   "cell_type": "code",
   "execution_count": 35,
   "id": "a61dbb8a-06dc-4db7-91df-656ecb980f8f",
   "metadata": {},
   "outputs": [
    {
     "name": "stdout",
     "output_type": "stream",
     "text": [
      "    수학  영어   음악   체육\n",
      "서준  90  98   85  100\n",
      "우현  80  89   95   90\n",
      "인아  70  95  100   90\n"
     ]
    }
   ],
   "source": [
    "exam_data = {'수학': [90, 80, 70],\n",
    "             '영어': [98, 89, 95],\n",
    "             '음악': [85, 95, 100],\n",
    "             '체육': [100, 90, 90]}\n",
    "ef = pd.DataFrame(exam_data, index=['서준', '우현', '인아'])\n",
    "print(ef)"
   ]
  },
  {
   "cell_type": "code",
   "execution_count": 39,
   "id": "093c2dbc-b0fe-4ae8-bc81-02bf9424b768",
   "metadata": {},
   "outputs": [
    {
     "name": "stdout",
     "output_type": "stream",
     "text": [
      "    수학  영어  음악   체육\n",
      "서준  90  98  85  100\n"
     ]
    },
    {
     "name": "stderr",
     "output_type": "stream",
     "text": [
      "C:\\Users\\h\\AppData\\Local\\Temp\\ipykernel_10460\\2721309199.py:2: SettingWithCopyWarning: \n",
      "A value is trying to be set on a copy of a slice from a DataFrame\n",
      "\n",
      "See the caveats in the documentation: https://pandas.pydata.org/pandas-docs/stable/user_guide/indexing.html#returning-a-view-versus-a-copy\n",
      "  ef2.drop(['우현','인아'], axis=0, inplace=True)\n"
     ]
    }
   ],
   "source": [
    "ef2 = ef[:]\n",
    "ef2.drop(['우현','인아'], axis=0, inplace=True)\n",
    "print(ef2)"
   ]
  },
  {
   "cell_type": "code",
   "execution_count": 99,
   "id": "c4e7f942-afb2-46cf-9234-557fc3bc64ae",
   "metadata": {},
   "outputs": [
    {
     "name": "stdout",
     "output_type": "stream",
     "text": [
      "   이름  수학  영어   음악   체육\n",
      "0  서준  90  98   85  100\n",
      "1  우현  80  89   95   90\n",
      "2  인아  70  95  100   90\n"
     ]
    }
   ],
   "source": [
    "exam_data = {'이름' : ['서준', '우현', '인아'],\n",
    "             '수학' : [90, 80, 70],\n",
    "             '영어' : [98, 89, 95],\n",
    "             '음악' : [85, 95, 100],\n",
    "             '체육' : [100, 90, 90]}\n",
    "global df\n",
    "df = pd.DataFrame(exam_data)\n",
    "print(df)"
   ]
  },
  {
   "cell_type": "code",
   "execution_count": 100,
   "id": "3bc5a425-f2d2-4ed8-8ac3-e96ef7e36d55",
   "metadata": {},
   "outputs": [
    {
     "name": "stdout",
     "output_type": "stream",
     "text": [
      "3\n"
     ]
    }
   ],
   "source": [
    "print(len(df))\n",
    "df.loc[len(df)] = ['동규', 90, 80, 70, 60]\n",
    "#자바는 고정, 가변 배열이 나누어진 반면에\n",
    "#df[3]의 경우 고정배열로 한정된 메모리 범위 안에서 값을 추가\n",
    "#df.add[3]의 경우 가변배열로 마지막 칸 이후에 추가적으로 값 추가\n",
    "#파이썬의 데이터프레임은 바로 배열 번호를 작성하면\n",
    "#자유롭게 추가 가능"
   ]
  },
  {
   "cell_type": "code",
   "execution_count": 101,
   "id": "c7b95e59-8f11-45d2-a5a2-d16bdb5b12c9",
   "metadata": {},
   "outputs": [
    {
     "name": "stdout",
     "output_type": "stream",
     "text": [
      "   이름  수학  영어   음악   체육\n",
      "0  서준  90  98   85  100\n",
      "1  우현  80  89   95   90\n",
      "2  인아  70  95  100   90\n",
      "3  동규  90  80   70   60\n"
     ]
    }
   ],
   "source": [
    "print(df)"
   ]
  },
  {
   "cell_type": "code",
   "execution_count": 50,
   "id": "1b168c98-0436-4bbc-8bb9-88d7f8fc0ed2",
   "metadata": {},
   "outputs": [
    {
     "name": "stdout",
     "output_type": "stream",
     "text": [
      "    이름  수학  영어   음악   체육\n",
      "0   서준  90  98   85  100\n",
      "1   우현  80  89   95   90\n",
      "2   인아  70  95  100   90\n",
      "3   동규  90  80   70   60\n",
      "4   동규  90  80   70   60\n",
      "5   동규  90  80   70   60\n",
      "6   동규  90  80   70   60\n",
      "행5  서준  90  98   85  100\n"
     ]
    }
   ],
   "source": [
    "df.loc['행5'] = df.loc[0]\n",
    "print(df)"
   ]
  },
  {
   "cell_type": "code",
   "execution_count": 51,
   "id": "e3b18070-2f42-4df6-88a5-288cdb86876f",
   "metadata": {},
   "outputs": [],
   "source": [
    "df.set_index('이름', inplace=True)"
   ]
  },
  {
   "cell_type": "code",
   "execution_count": 67,
   "id": "a6157155-f1e0-4a02-af93-b37591c1546c",
   "metadata": {},
   "outputs": [
    {
     "name": "stdout",
     "output_type": "stream",
     "text": [
      "    수학  영어   음악   체육\n",
      "이름                  \n",
      "서준  90  98   85   99\n",
      "우현  80  89   95   80\n",
      "인아  70  95  100   90\n",
      "동규  90  80   70   60\n",
      "동규  90  80   70   60\n",
      "동규  90  80   70   60\n",
      "동규  90  80   70   60\n",
      "서준  90  98   85  100\n"
     ]
    }
   ],
   "source": [
    "df.iloc[0][3] = 99\n",
    "print(df)"
   ]
  },
  {
   "cell_type": "code",
   "execution_count": 75,
   "id": "fd35074e-d897-4a01-a0a7-9f32efc3833d",
   "metadata": {},
   "outputs": [
    {
     "name": "stdout",
     "output_type": "stream",
     "text": [
      "이름  서준  우현   인아  동규  동규  동규  동규   서준\n",
      "수학  90  80   70  90  90  90  90   90\n",
      "영어  98  89   95  80  80  80  80   98\n",
      "음악  85  95  100  70  70  70  70   85\n",
      "체육  99  80   90  60  60  60  60  100\n"
     ]
    }
   ],
   "source": [
    "#선형대수\n",
    "#전치행렬 = 행,렬 바꾸기\n",
    "df = df.transpose()\n",
    "print(df)\n",
    "#df = df.T : 클래스로 전치행렬\n",
    "#파이썬은 메서드를 사용하여 데이터 처리하는 것이 암묵적 룰"
   ]
  },
  {
   "cell_type": "code",
   "execution_count": null,
   "id": "f88d78d7-d643-43fa-bebd-758dfbcccc62",
   "metadata": {},
   "outputs": [],
   "source": [
    "#데이터프레임은 2중배열로 column과 row로 구성되어 있다 (=테이블)\n",
    "#df.loc[위치] : 튜플 추가\n",
    "#drop : 튜플(row)삭제\n",
    "#set_index : 바꾸기\n",
    "#transpose : 행열 바꾸기"
   ]
  },
  {
   "cell_type": "code",
   "execution_count": 139,
   "id": "1dc847bb-5bfc-4a3e-92b7-60abae38bb90",
   "metadata": {},
   "outputs": [
    {
     "name": "stdout",
     "output_type": "stream",
     "text": [
      "   이름  수학  영어   음악   체육\n",
      "0  서준  90  98   85  100\n",
      "1  우현  80  89   95   90\n",
      "2  인아  70  95  100   90\n",
      "   이름  수학  영어   음악   체육\n",
      "0  서준  90  98   85  100\n",
      "1  우현  99  99   90   90\n",
      "2  인아  70  95  100   90\n"
     ]
    }
   ],
   "source": [
    "#학생 회원의 정보를 담는 데이터프레임을 만들고\n",
    "#추가하는 메서드, 삭제하는 메서드, 변경하는 메서드를\n",
    "#만들어서 활용하는 코드를 자유롭게 만드시오\n",
    "\n",
    "exam_data = {'이름' : ['서준', '우현', '인아'],\n",
    "             '수학' : [90, 80, 70],\n",
    "             '영어' : [98, 89, 95],\n",
    "             '음악' : [85, 95, 100],\n",
    "             '체육' : [100, 90, 90]}\n",
    "global ef\n",
    "ef = pd.DataFrame(exam_data)\n",
    "print(ef)\n",
    "\n",
    "#예) 이름, 학번, 성별, 입학날짜, 기타사항..\n",
    "#컬럼(데이터 프레임)을 만들고\n",
    "#loc[len()], drop, set_index()를 각각 실행하는\n",
    "#def 메서드 3개를 만들어 실행하는 코드 작성\n",
    "#*SOLID 원칙에서 하나의 메서드는 하나의 기능만 실행가능하게 만들기\n",
    "def funcInsert(name, num1, num2, num3, num4) :\n",
    "    global ef\n",
    "    ef.loc[len(ef)] = [name, num1, num2, num3, num4]\n",
    "    # ef.lic[5] : ef변수 안에 있는 데이터 프레임의\n",
    "    # 5번째 행(줄, 튜플)에 =(대입연산자) 우측에 있는 배열값을 저장\n",
    "    #df.append(data_set, ignore_index=True)\n",
    "\n",
    "def funcUpdate(name, num1, num2, num3, num4) :\n",
    "    global ef\n",
    "    ef.loc[ef.이름 == name, ('수학', '영어', '음악', '체육')] = (num1, num2, num3, num4)\n",
    "\n",
    "def funcDelete(name) :\n",
    "    global ef\n",
    "    #df변수에 df.이름이 '준수'가 아닌 값을 가져와서 df에 할당(저장)\n",
    "    # ef = ef.loc[df.이름 != '준수']\n",
    "    ef = ef.drop(index=ef.loc[ef.이름 == name].index)\n",
    "    # ef.drop(name, axis=0)\n",
    "    \n",
    "\n",
    "funcInsert('준수', 10, 20, 30, 40)\n",
    "funcUpdate('우현', 99, 99, 90, 90)\n",
    "funcDelete('준수')\n",
    "\n",
    "\n",
    "print(ef)"
   ]
  },
  {
   "cell_type": "code",
   "execution_count": 125,
   "id": "aa4334e9-d2a6-43a3-9477-a40a8068150a",
   "metadata": {},
   "outputs": [
    {
     "name": "stdout",
     "output_type": "stream",
     "text": [
      "10\n",
      "20\n",
      "20\n"
     ]
    }
   ],
   "source": [
    "#1. 함수(메서드) 개념\n",
    "#함수 : 재활용이 가능한 코드의 집합 = 메서드\n",
    "#2. 전역변수, 지역변수\n",
    "#전역변수 : 여러 메서드들이 사용할 수 있는 변수\n",
    "#지역변수 : 메서드 안에서만 존재하는 변수 (밖으로 나가면 소멸)\n",
    "a = 10;\n",
    "#메서드, 함수\n",
    "def test() :\n",
    "    #변수 a는 전역변수에 a를 지칭(가져옴)\n",
    "    #global 선언문이 없다면, test()함수 내에서 \n",
    "    #지역변수 a를 만들어서 20데이터를 저장\n",
    "    global a\n",
    "    a = 20\n",
    "    print(a)\n",
    "    \n",
    "#a의 값은 전역변수 a로 출력\n",
    "print(a)\n",
    "test()\n",
    "print(a)\n"
   ]
  },
  {
   "cell_type": "code",
   "execution_count": null,
   "id": "1a846f8b-ca04-4b50-98e0-0ac469246219",
   "metadata": {},
   "outputs": [],
   "source": []
  }
 ],
 "metadata": {
  "kernelspec": {
   "display_name": "Python 3 (ipykernel)",
   "language": "python",
   "name": "python3"
  },
  "language_info": {
   "codemirror_mode": {
    "name": "ipython",
    "version": 3
   },
   "file_extension": ".py",
   "mimetype": "text/x-python",
   "name": "python",
   "nbconvert_exporter": "python",
   "pygments_lexer": "ipython3",
   "version": "3.9.0"
  }
 },
 "nbformat": 4,
 "nbformat_minor": 5
}
