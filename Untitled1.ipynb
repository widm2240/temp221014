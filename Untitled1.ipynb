{
 "cells": [
  {
   "cell_type": "code",
   "execution_count": 1,
   "id": "4cdfa797-736b-4339-b714-1dfcd1fcb035",
   "metadata": {},
   "outputs": [
    {
     "name": "stdout",
     "output_type": "stream",
     "text": [
      "김준석\n"
     ]
    }
   ],
   "source": [
    "print(\"김준석\")"
   ]
  },
  {
   "cell_type": "code",
   "execution_count": 2,
   "id": "c941a277-571e-4453-9dbc-1cd09bdc7043",
   "metadata": {},
   "outputs": [
    {
     "name": "stdout",
     "output_type": "stream",
     "text": [
      "이정석\n"
     ]
    }
   ],
   "source": [
    "#자바 : 정적타입 : 개발자가 타입을 명시 : String name = \"이정석\"\n",
    "#파이썬 : 동작타입 : 메모리에 할당 된 값을 보고 언어가 유추하여 타입 지정 : # name = \"이정석\"\n",
    "\n",
    "name=\"이정석\"\n",
    "print(name)"
   ]
  },
  {
   "cell_type": "code",
   "execution_count": 3,
   "id": "8a924c9c-ecdf-4572-98a1-442189727e1d",
   "metadata": {},
   "outputs": [
    {
     "name": "stdout",
     "output_type": "stream",
     "text": [
      "휴먼교육센터 3클래스이정석\n"
     ]
    }
   ],
   "source": [
    "class1=\"휴먼교육센터 3클래스\"\n",
    "print(class1+name)"
   ]
  },
  {
   "cell_type": "code",
   "execution_count": 5,
   "id": "d1ded85b-53ef-405c-8094-71d7ad8f164b",
   "metadata": {},
   "outputs": [
    {
     "name": "stdout",
     "output_type": "stream",
     "text": [
      "<class 'pandas.core.series.Series'>\n",
      "\n",
      "\n",
      "a       1\n",
      "b       2\n",
      "c       3\n",
      "이정석    학생\n",
      "dtype: object\n"
     ]
    }
   ],
   "source": [
    "#import : 라이브러리 pandas를 가져다 쓰겠다.\n",
    "#as : 별칭(별칭으로 라이브러리를 지목)\n",
    "import pandas as pd\n",
    "#dict_data : 변수 : 변수하는 수 <> 상수\n",
    "#ict_data : 변수 이름을 지어서 =(대입연산자 : 우측 항 데이터를 좌측 항 변수에 저장(할당))\n",
    "# 'a' :1 (a를 호출하면 1이라는 값이 출력)\n",
    "# 'a' 문자열, 1은 정수(숫자)\n",
    "dict_data={'a':1,'b':2,'c':3, '이정석':'학생'}\n",
    "#pd(pandas별칭)의 Series 메서드를 실행\n",
    "# 인자값 dict_data를 넣음\n",
    "sr=pd.Series(dict_data)\n",
    "print(type(sr))\n",
    "print('\\n')\n",
    "print(sr)"
   ]
  },
  {
   "cell_type": "code",
   "execution_count": 7,
   "id": "2cb6f5e4-8043-4532-8d69-9cfde701b1dd",
   "metadata": {},
   "outputs": [
    {
     "name": "stdout",
     "output_type": "stream",
     "text": [
      "0    2019-01-02\n",
      "1          3.14\n",
      "2           ABC\n",
      "3           100\n",
      "4          True\n",
      "dtype: object\n"
     ]
    }
   ],
   "source": [
    "#참조타입 : 변수와 변수값을 연결하는 타입 <> 기본타입\n",
    "list_data=['2019-01-02', 3.14, 'ABC', 100 ,True]\n",
    "#sr이라는 변수이름에 원래 데이터는 dict_data이였으나,\n",
    "#list_data로 만들어진 값을 ar변수에 대체 연결\n",
    "sr=pd.Series(list_data)\n",
    "print(sr)"
   ]
  },
  {
   "cell_type": "code",
   "execution_count": 19,
   "id": "98f93c46-c10a-471b-b6d0-ad9c6a1b1769",
   "metadata": {},
   "outputs": [
    {
     "name": "stdout",
     "output_type": "stream",
     "text": [
      "나의 이름은 이정석\n"
     ]
    }
   ],
   "source": [
    "#학생의 개인정보를 저장하는 딕셔너리 배열을 만들고,\n",
    "#(이름, id, pw, 성별 등등)\n",
    "#그 중에 이름을 출력하는 print메서드를 실행하시오.\n",
    "# {}중괄호 : map(key, value)\n",
    "# example = {key:value, key: value...}\n",
    "# []대괄호 : 배열\n",
    "#example = [1,2,3,4,....]\n",
    "dict_data={'이름':'이정석','직업':'학생','ID':'ABCD', 'PW':1234, '성별':'남'}\n",
    "\n",
    "#향상된 반복문\n",
    "#JAVA) for(String item : stringArray)\n",
    "#기본 반복문과 동일하나, 배열 처음부터 끝까지 모두 조회를 간략화한 코드 : for (int i = 0; i<stringArray.lengt; i++);\n",
    "#파이썬)\n",
    "#item in itemArray:\n",
    "#itemArray 배열을 모두 순회하면서 하나씩 가져옴\n",
    "if '이름' in dict_data:\n",
    "    print('나의 이름은 ' + dict_data['이름'])\n",
    "else : \n",
    "    print('이름 없음')\n"
   ]
  },
  {
   "cell_type": "code",
   "execution_count": 27,
   "id": "869be32e-0d59-49d5-81d7-2cf784a62bf2",
   "metadata": {},
   "outputs": [
    {
     "name": "stdout",
     "output_type": "stream",
     "text": [
      "이름     이정석\n",
      "ID    ABCD\n",
      "PW    1234\n",
      "직업      학생\n",
      "성별       남\n",
      "주소     NaN\n",
      "dtype: object\n"
     ]
    }
   ],
   "source": [
    "sr=pd.Series(dict_data, index=['이름','ID','PW','직업','성별','주소'])\n",
    "print(sr)"
   ]
  },
  {
   "cell_type": "code",
   "execution_count": 29,
   "id": "553649f4-f260-481d-9481-e9a8493135d6",
   "metadata": {},
   "outputs": [
    {
     "name": "stdout",
     "output_type": "stream",
     "text": [
      "이름     이정석\n",
      "ID    ABCD\n",
      "dtype: object\n"
     ]
    }
   ],
   "source": [
    "print(sr[:2])"
   ]
  },
  {
   "cell_type": "code",
   "execution_count": 31,
   "id": "6833a0fd-960e-43fe-90ef-676cd7603815",
   "metadata": {},
   "outputs": [
    {
     "name": "stdout",
     "output_type": "stream",
     "text": [
      "이름     이정석\n",
      "ID    ABCD\n",
      "PW    1234\n",
      "dtype: object\n"
     ]
    }
   ],
   "source": [
    "print(sr[0:3])"
   ]
  },
  {
   "cell_type": "code",
   "execution_count": 33,
   "id": "9c9e08cf-87fa-4c30-90ef-21a145edb668",
   "metadata": {},
   "outputs": [
    {
     "name": "stdout",
     "output_type": "stream",
     "text": [
      "    나이 성별   학교\n",
      "준서  15  남  덕영중\n",
      "예은  17  여  수리중\n",
      "\n",
      "\n",
      "Index(['준서', '예은'], dtype='object')\n",
      "\n",
      "\n",
      "Index(['나이', '성별', '학교'], dtype='object')\n"
     ]
    }
   ],
   "source": [
    "df=pd.DataFrame([[15, '남', '덕영중'], [17,'여', '수리중']],\n",
    "                index=['준서', '예은'],\n",
    "                columns=['나이', '성별', '학교'])\n",
    "print(df)\n",
    "print('\\n')\n",
    "print(df.index)\n",
    "print('\\n')\n",
    "print(df.columns)\n",
    "    "
   ]
  },
  {
   "cell_type": "code",
   "execution_count": 34,
   "id": "3fdb8add-df9e-4022-b42c-d60769756e95",
   "metadata": {},
   "outputs": [
    {
     "name": "stdout",
     "output_type": "stream",
     "text": [
      "    수학  영어   음악   체육\n",
      "서준  90  98   85  100\n",
      "우현  80  89   95   90\n",
      "인아  70  95  100   90\n",
      "\n",
      "\n",
      "    수학  영어   음악   체육\n",
      "서준  90  98   85  100\n",
      "인아  70  95  100   90\n",
      "\n",
      "\n",
      "    수학  영어  음악   체육\n",
      "서준  90  98  85  100\n"
     ]
    },
    {
     "name": "stderr",
     "output_type": "stream",
     "text": [
      "C:\\Users\\h\\AppData\\Local\\Temp\\ipykernel_10044\\2707941331.py:9: SettingWithCopyWarning: \n",
      "A value is trying to be set on a copy of a slice from a DataFrame\n",
      "\n",
      "See the caveats in the documentation: https://pandas.pydata.org/pandas-docs/stable/user_guide/indexing.html#returning-a-view-versus-a-copy\n",
      "  df2.drop('우현', inplace=True)\n",
      "C:\\Users\\h\\AppData\\Local\\Temp\\ipykernel_10044\\2707941331.py:14: SettingWithCopyWarning: \n",
      "A value is trying to be set on a copy of a slice from a DataFrame\n",
      "\n",
      "See the caveats in the documentation: https://pandas.pydata.org/pandas-docs/stable/user_guide/indexing.html#returning-a-view-versus-a-copy\n",
      "  df3.drop(['우현', '인아'], axis=0, inplace=True)\n"
     ]
    }
   ],
   "source": [
    "exam_data = {'수학' : [90, 80, 70], '영어' : [98, 89, 95],\n",
    "             '음악' : [85, 95, 100], '체육' : [100, 90, 90]}\n",
    "\n",
    "df = pd.DataFrame(exam_data, index=['서준', '우현', '인아'])\n",
    "print(df)\n",
    "print('\\n')\n",
    "\n",
    "df2 = df[:]\n",
    "df2.drop('우현', inplace=True)\n",
    "print(df2)\n",
    "print('\\n')\n",
    "\n",
    "df3=df[:]\n",
    "df3.drop(['우현', '인아'], axis=0, inplace=True)\n",
    "print(df3)"
   ]
  },
  {
   "cell_type": "code",
   "execution_count": 35,
   "id": "775942ee-108b-4d56-acbd-f65edbd8db50",
   "metadata": {},
   "outputs": [
    {
     "name": "stdout",
     "output_type": "stream",
     "text": [
      "   이름  수학  영어   음악   체육\n",
      "0  서준  90  98   85  100\n",
      "1  우현  80  89   95   90\n",
      "2  인아  70  95  100   90\n"
     ]
    }
   ],
   "source": [
    "exam_data={'이름' : ['서준', '우현', '인아'],\n",
    "           '수학' : [90, 80, 70],\n",
    "           '영어' : [98, 89, 95],\n",
    "           '음악' : [85, 95, 100],\n",
    "           '체육' : [100, 90, 90]}\n",
    "global df\n",
    "df=pd.DataFrame(exam_data)\n",
    "print(df)"
   ]
  },
  {
   "cell_type": "code",
   "execution_count": 38,
   "id": "d8d0dac4-4ed9-41bd-8db1-817c9bf3bfe4",
   "metadata": {},
   "outputs": [
    {
     "name": "stdout",
     "output_type": "stream",
     "text": [
      "4\n"
     ]
    }
   ],
   "source": [
    "print(len(df))\n",
    "df.loc[len(df)] = ['동규', 90, 80, 70, 60]\n",
    "#자바는 고정, 가변 배열이 나누어진 반면에\n",
    "#df[3]의 경우 고정배열로 한정된 메모리 범위 안에서 값을 추가\n",
    "#df.add[3]의 경우 가변배열로 마지막 칸 이후에 추가적으로 값 추가\n",
    "#파이썬의 데이터프레임은 바로 배열 번호를 작성하면\n",
    "#자유롭게 추가 가능"
   ]
  },
  {
   "cell_type": "code",
   "execution_count": 39,
   "id": "f28bc29b-20af-4dc6-873c-2b97847415bf",
   "metadata": {},
   "outputs": [
    {
     "name": "stdout",
     "output_type": "stream",
     "text": [
      "    이름  수학  영어   음악   체육\n",
      "0   서준  90  98   85  100\n",
      "1   우현  80  89   95   90\n",
      "2   인아  70  95  100   90\n",
      "3   동규  90  80   70   60\n",
      "4   동규  90  80   70   60\n",
      "행5  서준  90  98   85  100\n"
     ]
    }
   ],
   "source": [
    "df.loc['행5'] = df.loc[0]\n",
    "print(df)"
   ]
  },
  {
   "cell_type": "code",
   "execution_count": 40,
   "id": "96f82776-1334-427c-a401-4129524c8e46",
   "metadata": {},
   "outputs": [],
   "source": [
    "df.set_index('이름', inplace=True)"
   ]
  },
  {
   "cell_type": "code",
   "execution_count": 43,
   "id": "983c1f6f-46fa-4926-95ba-95ab8f989d77",
   "metadata": {},
   "outputs": [
    {
     "name": "stdout",
     "output_type": "stream",
     "text": [
      "    수학  영어   음악   체육\n",
      "이름                  \n",
      "서준  90  98   85   80\n",
      "우현  80  89   95   90\n",
      "인아  70  95  100   90\n",
      "동규  90  80   70   60\n",
      "동규  90  80   70   60\n",
      "서준  90  98   85  100\n"
     ]
    }
   ],
   "source": [
    "df.iloc[0][3] = 80\n",
    "print(df)"
   ]
  },
  {
   "cell_type": "code",
   "execution_count": 46,
   "id": "b3274657-9709-4a05-8899-1b10752fa900",
   "metadata": {},
   "outputs": [
    {
     "name": "stdout",
     "output_type": "stream",
     "text": [
      "    수학  영어   음악   체육\n",
      "이름                  \n",
      "서준  90  98   85   80\n",
      "우현  80  89   95   90\n",
      "인아  70  95  100   90\n",
      "동규  90  80   70   60\n",
      "동규  90  80   70   60\n",
      "서준  90  98   85  100\n"
     ]
    }
   ],
   "source": [
    "#선형대수\n",
    "#전치행렬 = 행, 렬 바꾸기\n",
    "df = df.transpose()\n",
    "print(df)\n",
    "#df=df.T 클래스로 전치행렬\n",
    "#파이썬은 메서드를 사용하여 데이터 처리하는 것이 암묵적 룰"
   ]
  },
  {
   "cell_type": "code",
   "execution_count": null,
   "id": "f1f82524-d041-419d-8b25-d8f41724e486",
   "metadata": {},
   "outputs": [],
   "source": [
    "#데이터프레임은 2중배열로 column과 row로 구성되어 있다.(=테이블)\n",
    "#drop : 튜플(row) 삭제\n",
    "#set_index : 바꾸기\n",
    "#transpose : 행렬 바꾸기"
   ]
  },
  {
   "cell_type": "code",
   "execution_count": 63,
   "id": "b9645b85-306d-49bc-8ea4-c12ce32f5ac7",
   "metadata": {},
   "outputs": [
    {
     "name": "stdout",
     "output_type": "stream",
     "text": [
      "    이름      학번  성별  입학날짜  기타사항\n",
      "0   정석  220051  남자    85   100\n",
      "1   보라  220501  여자    95    90\n",
      "2  케이티  230405  여자   100    90\n",
      "    이름      학번  성별  입학날짜  기타사항  수학  영어  음악  체육\n",
      "0   정석  220051  남자    85   100 NaN NaN NaN NaN\n",
      "1   보라  220501  여자    95    90 NaN NaN NaN NaN\n",
      "2  케이티  230405  여자   100    90 NaN NaN NaN NaN\n"
     ]
    }
   ],
   "source": [
    "#학생 회원의 정보를 담는 데이터프레임을 만들고\n",
    "#추가하는 메서드, 삭제하는 메서드, 변경하는 메서드를\n",
    "#만들어서 활용하는 코드를 자유롭게 만드시오\n",
    "exam_data={'이름' : ['서준', '우현', '인아'],\n",
    "           '수학' : [90, 80, 70],\n",
    "           '영어' : [98, 89, 95],\n",
    "           '음악' : [85, 95, 100],\n",
    "           '체육' : [100, 90, 90]}\n",
    "global ef\n",
    "ef = pd.DataFrame(exam_data1)\n",
    "print(ef) \n",
    "\n",
    "#예) 이름, 학번, 성별, 입학날짜, 기타사항...\n",
    "#컬럼(데이터 프레임)을 만들고\n",
    "#loc[len()], drop, set_index()를 각각 실행하는\n",
    "#def 메서드 3개를 만들어 실행하는 코드 작성\n",
    "#*SOLID 원칙에서 하나의 메서드는 하나의 기능만 실행가능하게 만들기\n",
    "\n",
    "def funcInsert(name, num1, num2, num3, num4) :\n",
    "    global ef\n",
    "    ef.loc[len(ef)] = [name, num1, num2, num3, num4]\n",
    "    #ef.append(data_set ignore_index=True)\n",
    "    #5번째 행(줄, 튜플)에 =(대입연산자) 우측에 있는 배열값을 저장\n",
    "    #df.append(data_set, ignore_index=True)\n",
    "    \n",
    "    \n",
    "def funcUpdate(name, num1, num2, num3, num4) :\n",
    "    global ef\n",
    "    ef.loc[ef.이름 == name, ('수학', '영어', '음악', '체육')] = (num1, num2, num3, num4)\n",
    "    \n",
    "def funcDelete(name) :\n",
    "    global ef\n",
    "    #ef변수에 ef.이름이 '준수'가 아닌 값을 가져와서 df에 할당(저장)\n",
    "    #ef=ef.loc[df.이름!='준수']\n",
    "    ef = ef.loc[ef.이름 != '준수']\n",
    "    #ef.drop(name, axis=0)\n",
    "\n",
    "funcInsert('준수', 10, 20, 30, 40)\n",
    "funcUpdate('우현', 90, 99, 89, 90)\n",
    "funcDelete('준수')\n",
    "\n",
    "print(ef)"
   ]
  },
  {
   "cell_type": "code",
   "execution_count": 57,
   "id": "76c5e128-5b7d-4e63-8bed-509b011eff8d",
   "metadata": {},
   "outputs": [
    {
     "name": "stdout",
     "output_type": "stream",
     "text": [
      "10\n",
      "20\n"
     ]
    }
   ],
   "source": [
    "#1.함수(메서드)개념\n",
    "#함수 : 재활용이 가능한 코드의 집합 = 메서드\n",
    "#2. 전역변수, 지역변수\n",
    "#전역변수 : 여러 메서드들이 사용할 수 있는 변수\n",
    "#지역변수 : 메서드 안에서만 존재하는 변수(밖으로 나가면 소멸)\n",
    "\n",
    "a=10;\n",
    "def test() :\n",
    "    #변수 a는 전역변수에 a를 지칭(가져옴)\n",
    "    #global 선언문이 없다면, test()함수 내에서\n",
    "    #지역변수 a를 만들어서 20데이터를 저장\n",
    "    global a\n",
    "    a=20\n",
    "    print(a)\n",
    "#a의 값은 전역변수 a로 출력\n",
    "print(a)\n",
    "test()\n",
    "print(a)"
   ]
  },
  {
   "cell_type": "code",
   "execution_count": null,
   "id": "9030276d-4bcc-41b1-82ab-3792643545a0",
   "metadata": {},
   "outputs": [],
   "source": [
    "def6.set_index(['이정석','한보라','케이티'])\n",
    "print"
   ]
  }
 ],
 "metadata": {
  "kernelspec": {
   "display_name": "Python 3 (ipykernel)",
   "language": "python",
   "name": "python3"
  },
  "language_info": {
   "codemirror_mode": {
    "name": "ipython",
    "version": 3
   },
   "file_extension": ".py",
   "mimetype": "text/x-python",
   "name": "python",
   "nbconvert_exporter": "python",
   "pygments_lexer": "ipython3",
   "version": "3.9.0"
  }
 },
 "nbformat": 4,
 "nbformat_minor": 5
}
